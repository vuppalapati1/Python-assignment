{
 "cells": [
  {
   "cell_type": "code",
   "execution_count": null,
   "id": "549144d3",
   "metadata": {},
   "outputs": [],
   "source": [
    "1. In the below elements which of them are values or an expression? eg:- values can be integer or string and expressions will be mathematical operators.\n",
    "* -Expression\n",
    "'hello'-value\n",
    "-87.8-Value\n",
    "- -Expression\n",
    "/ -Expression\n",
    "+\t-Expression\n",
    "6 -value\n"
   ]
  },
  {
   "cell_type": "code",
   "execution_count": null,
   "id": "597f1a2f",
   "metadata": {},
   "outputs": [],
   "source": [
    "2. What is the difference between string and variable?\n",
    "Answer :  String is an alphabets which is/are represented in \" \"\n",
    "Variable which stores the information\n",
    "a=\"Ineuron\"\n",
    "a-variable\n",
    "\"Ineuron\"-string\n"
   ]
  },
  {
   "cell_type": "code",
   "execution_count": null,
   "id": "feebdb10",
   "metadata": {},
   "outputs": [],
   "source": [
    "3. Describe three different data types.\n",
    "Answer :  String- String is an alphabets which is/are represented in \" \"\n",
    "\"Ineuron\"\n",
    "Integer-Which represents Numeric's\n",
    "a=10\n",
    "Boolean- Represent whether logic or comparison is True or False\n",
    "\n"
   ]
  },
  {
   "cell_type": "code",
   "execution_count": null,
   "id": "61042b22",
   "metadata": {},
   "outputs": [],
   "source": [
    "4. What is an expression made up of? What do all expressions do?\n",
    "Answer :  Expression is made of all the values(like string, integer, decimals), operands.\n",
    "All expression will give the values .\n",
    "x=5+5.5\n",
    "\n"
   ]
  },
  {
   "cell_type": "code",
   "execution_count": null,
   "id": "994b9e75",
   "metadata": {},
   "outputs": [],
   "source": [
    "5. This assignment statements, like spam = 10. What is the difference between an expression and a statement?\n",
    "Answer :  spam =10 is an expression, \n",
    "where as statement means a condition like if , else, while ,for\n",
    "if spam==10:\n",
    "       print(\"This is Statement\")\n"
   ]
  },
  {
   "cell_type": "code",
   "execution_count": null,
   "id": "4e435736",
   "metadata": {},
   "outputs": [],
   "source": [
    "6. After running the following code, what does the variable bacon contain?\n",
    "bacon = 22\n",
    "bacon + 1\n",
    "Answer :  23\n"
   ]
  },
  {
   "cell_type": "code",
   "execution_count": null,
   "id": "e0f774b3",
   "metadata": {},
   "outputs": [],
   "source": [
    "7. What should the values of the following two terms be?\n",
    "'spam' + 'spamspam' -'spamspamspam'\n",
    "'spam' * 3- 'spamspamspam'\n"
   ]
  },
  {
   "cell_type": "code",
   "execution_count": null,
   "id": "221f2650",
   "metadata": {},
   "outputs": [],
   "source": [
    "8. Why is eggs a valid variable name while 100 is invalid?\n",
    "Answer :Varibles cannot be integers\n"
   ]
  },
  {
   "cell_type": "code",
   "execution_count": null,
   "id": "136e52c1",
   "metadata": {},
   "outputs": [],
   "source": [
    "9. What three functions can be used to get the integer, floating-point number, or string version of a value?\n",
    "Answer : Int(), Float(), Str()\n"
   ]
  },
  {
   "cell_type": "code",
   "execution_count": null,
   "id": "127fec0d",
   "metadata": {},
   "outputs": [],
   "source": [
    "10. Why does this expression cause an error? How can you fix it?\n",
    "'I have eaten ' + 99 + ' burritos.'\n",
    "Answer:\n",
    "As 99 is a integer it cannot concatenate \n"
   ]
  }
 ],
 "metadata": {
  "kernelspec": {
   "display_name": "Python 3",
   "language": "python",
   "name": "python3"
  },
  "language_info": {
   "codemirror_mode": {
    "name": "ipython",
    "version": 3
   },
   "file_extension": ".py",
   "mimetype": "text/x-python",
   "name": "python",
   "nbconvert_exporter": "python",
   "pygments_lexer": "ipython3",
   "version": "3.8.8"
  }
 },
 "nbformat": 4,
 "nbformat_minor": 5
}
